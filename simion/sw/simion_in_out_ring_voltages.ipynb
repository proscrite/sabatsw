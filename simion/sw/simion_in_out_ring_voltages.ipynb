{
 "cells": [
  {
   "cell_type": "code",
   "execution_count": 1,
   "metadata": {},
   "outputs": [],
   "source": [
    "import numpy as np\n",
    "import matplotlib.pyplot as plt\n",
    "import pandas as pd\n",
    "#from jupyterthemes import jtplot"
   ]
  },
  {
   "cell_type": "code",
   "execution_count": null,
   "metadata": {},
   "outputs": [],
   "source": [
    "jtplot.style('default', grid = False)"
   ]
  },
  {
   "cell_type": "code",
   "execution_count": 63,
   "metadata": {},
   "outputs": [],
   "source": [
    "def load_data(filename : str) -> pd.DataFrame:\n",
    "    voltage, a, q, trans, ke, uke = [], [], [], [], [], []\n",
    "    with open(filename) as fin:\n",
    "        lines = fin.readlines()\n",
    "        for line, line2 in zip(lines[1:-1:7], lines[4:-1:7]):\n",
    "            q.append(float(line.split(',')[2]))\n",
    "            a.append(float(line.split(',')[1]))\n",
    "            if '-1.#IND' in line2:\n",
    "                line2 = line2.replace('-1.#IND', 'NaN')\n",
    "            voltage.append(float(line2.split(',')[0]))\n",
    "            trans.append(float(line2.split(',')[3]))\n",
    "            ke.append(float(line2.split(',')[4]))\n",
    "            uke.append(float(line2.split(',')[5]))\n",
    "\n",
    "\n",
    "    df = pd.DataFrame({'voltage' : voltage, 'q' : q, 'a' : a, 'transmission' : trans, 'ke' : ke, 'uke' : uke})\n",
    "    return df"
   ]
  },
  {
   "cell_type": "code",
   "execution_count": 12,
   "metadata": {
    "cell_style": "split",
    "code_folding": [
     0
    ]
   },
   "outputs": [],
   "source": [
    "def plot_transmission_contours(dfm : pd.DataFrame, v : int = 0):\n",
    "    \"\"\"Contour plot transmission percentage on stability diagram.\n",
    "    Parameters:\n",
    "    dfm : pd.DataFrame\n",
    "        Sub-dataframe for target ring voltage\n",
    "    v : int = 0\n",
    "        Target mass. If unspecified, will be read out from dfm\"\"\"\n",
    "    \n",
    "    if v == 0: v = int(dfm.voltage[0])\n",
    "    X, Y = (dfm.a, dfm.q)\n",
    "    Z = dfm.transmission\n",
    "    fig, ax = plt.subplots()\n",
    "    # ax.set_aspect('equal')\n",
    "    tcf = ax.tricontourf(X, Y, Z)\n",
    "    cb = fig.colorbar(tcf)\n",
    "    cb.set_label('Transmission [%]')\n",
    "    ax.set_title('V = %i V' %m)\n",
    "    ax.set_xlabel('$\\\\alpha$ [A. U.]')\n",
    "    ax.set_ylabel('$q$ [A. U.]')"
   ]
  },
  {
   "cell_type": "markdown",
   "metadata": {},
   "source": [
    "# Run 1: outer ring = [10, 100, 200, 500, 1000, 1200]"
   ]
  },
  {
   "cell_type": "code",
   "execution_count": 5,
   "metadata": {},
   "outputs": [],
   "source": [
    "filename = \"C://Users//Pablo//Desktop//SIMION//quad_nobox_0_25grid//output/ring_voltages.out\""
   ]
  },
  {
   "cell_type": "code",
   "execution_count": 51,
   "metadata": {
    "cell_style": "split",
    "scrolled": true
   },
   "outputs": [
    {
     "data": {
      "text/html": [
       "<div>\n",
       "<style scoped>\n",
       "    .dataframe tbody tr th:only-of-type {\n",
       "        vertical-align: middle;\n",
       "    }\n",
       "\n",
       "    .dataframe tbody tr th {\n",
       "        vertical-align: top;\n",
       "    }\n",
       "\n",
       "    .dataframe thead th {\n",
       "        text-align: right;\n",
       "    }\n",
       "</style>\n",
       "<table border=\"1\" class=\"dataframe\">\n",
       "  <thead>\n",
       "    <tr style=\"text-align: right;\">\n",
       "      <th></th>\n",
       "      <th>voltage</th>\n",
       "      <th>q</th>\n",
       "      <th>a</th>\n",
       "      <th>transmission</th>\n",
       "      <th>ke</th>\n",
       "      <th>uke</th>\n",
       "    </tr>\n",
       "  </thead>\n",
       "  <tbody>\n",
       "    <tr>\n",
       "      <th>0</th>\n",
       "      <td>-10</td>\n",
       "      <td>0.710</td>\n",
       "      <td>0.220</td>\n",
       "      <td>52.500000</td>\n",
       "      <td>32.401575</td>\n",
       "      <td>4.615328</td>\n",
       "    </tr>\n",
       "    <tr>\n",
       "      <th>1</th>\n",
       "      <td>-10</td>\n",
       "      <td>0.715</td>\n",
       "      <td>0.220</td>\n",
       "      <td>48.484848</td>\n",
       "      <td>32.862079</td>\n",
       "      <td>6.757687</td>\n",
       "    </tr>\n",
       "    <tr>\n",
       "      <th>2</th>\n",
       "      <td>-10</td>\n",
       "      <td>0.710</td>\n",
       "      <td>0.225</td>\n",
       "      <td>51.000000</td>\n",
       "      <td>33.901231</td>\n",
       "      <td>8.292950</td>\n",
       "    </tr>\n",
       "    <tr>\n",
       "      <th>3</th>\n",
       "      <td>-10</td>\n",
       "      <td>0.715</td>\n",
       "      <td>0.225</td>\n",
       "      <td>32.500000</td>\n",
       "      <td>36.740700</td>\n",
       "      <td>10.593575</td>\n",
       "    </tr>\n",
       "    <tr>\n",
       "      <th>4</th>\n",
       "      <td>-100</td>\n",
       "      <td>0.710</td>\n",
       "      <td>0.220</td>\n",
       "      <td>48.500000</td>\n",
       "      <td>219.915322</td>\n",
       "      <td>18.413696</td>\n",
       "    </tr>\n",
       "    <tr>\n",
       "      <th>5</th>\n",
       "      <td>-100</td>\n",
       "      <td>0.715</td>\n",
       "      <td>0.220</td>\n",
       "      <td>42.346939</td>\n",
       "      <td>222.417018</td>\n",
       "      <td>20.456584</td>\n",
       "    </tr>\n",
       "    <tr>\n",
       "      <th>6</th>\n",
       "      <td>-100</td>\n",
       "      <td>0.710</td>\n",
       "      <td>0.225</td>\n",
       "      <td>50.251256</td>\n",
       "      <td>225.203184</td>\n",
       "      <td>20.713371</td>\n",
       "    </tr>\n",
       "    <tr>\n",
       "      <th>7</th>\n",
       "      <td>-100</td>\n",
       "      <td>0.715</td>\n",
       "      <td>0.225</td>\n",
       "      <td>34.673367</td>\n",
       "      <td>224.402121</td>\n",
       "      <td>24.492458</td>\n",
       "    </tr>\n",
       "    <tr>\n",
       "      <th>8</th>\n",
       "      <td>-200</td>\n",
       "      <td>0.710</td>\n",
       "      <td>0.220</td>\n",
       "      <td>55.500000</td>\n",
       "      <td>422.941297</td>\n",
       "      <td>32.785849</td>\n",
       "    </tr>\n",
       "    <tr>\n",
       "      <th>9</th>\n",
       "      <td>-200</td>\n",
       "      <td>0.715</td>\n",
       "      <td>0.220</td>\n",
       "      <td>53.000000</td>\n",
       "      <td>420.058464</td>\n",
       "      <td>23.536680</td>\n",
       "    </tr>\n",
       "    <tr>\n",
       "      <th>10</th>\n",
       "      <td>-200</td>\n",
       "      <td>0.710</td>\n",
       "      <td>0.225</td>\n",
       "      <td>43.500000</td>\n",
       "      <td>427.856605</td>\n",
       "      <td>37.264266</td>\n",
       "    </tr>\n",
       "    <tr>\n",
       "      <th>11</th>\n",
       "      <td>-200</td>\n",
       "      <td>0.715</td>\n",
       "      <td>0.225</td>\n",
       "      <td>33.000000</td>\n",
       "      <td>430.994136</td>\n",
       "      <td>61.047346</td>\n",
       "    </tr>\n",
       "    <tr>\n",
       "      <th>12</th>\n",
       "      <td>-500</td>\n",
       "      <td>0.710</td>\n",
       "      <td>0.220</td>\n",
       "      <td>40.909091</td>\n",
       "      <td>1019.788320</td>\n",
       "      <td>43.981927</td>\n",
       "    </tr>\n",
       "    <tr>\n",
       "      <th>13</th>\n",
       "      <td>-500</td>\n",
       "      <td>0.715</td>\n",
       "      <td>0.220</td>\n",
       "      <td>56.783920</td>\n",
       "      <td>1019.256048</td>\n",
       "      <td>48.598532</td>\n",
       "    </tr>\n",
       "    <tr>\n",
       "      <th>14</th>\n",
       "      <td>-500</td>\n",
       "      <td>0.710</td>\n",
       "      <td>0.225</td>\n",
       "      <td>48.500000</td>\n",
       "      <td>1022.479146</td>\n",
       "      <td>35.313531</td>\n",
       "    </tr>\n",
       "    <tr>\n",
       "      <th>15</th>\n",
       "      <td>-500</td>\n",
       "      <td>0.715</td>\n",
       "      <td>0.225</td>\n",
       "      <td>38.190955</td>\n",
       "      <td>1021.853104</td>\n",
       "      <td>39.493894</td>\n",
       "    </tr>\n",
       "    <tr>\n",
       "      <th>16</th>\n",
       "      <td>-1000</td>\n",
       "      <td>0.710</td>\n",
       "      <td>0.220</td>\n",
       "      <td>47.500000</td>\n",
       "      <td>2000.938974</td>\n",
       "      <td>38.218878</td>\n",
       "    </tr>\n",
       "    <tr>\n",
       "      <th>17</th>\n",
       "      <td>-1000</td>\n",
       "      <td>0.715</td>\n",
       "      <td>0.220</td>\n",
       "      <td>47.500000</td>\n",
       "      <td>2010.041909</td>\n",
       "      <td>54.444260</td>\n",
       "    </tr>\n",
       "    <tr>\n",
       "      <th>18</th>\n",
       "      <td>-1000</td>\n",
       "      <td>0.710</td>\n",
       "      <td>0.225</td>\n",
       "      <td>52.000000</td>\n",
       "      <td>2011.504151</td>\n",
       "      <td>52.807266</td>\n",
       "    </tr>\n",
       "    <tr>\n",
       "      <th>19</th>\n",
       "      <td>-1000</td>\n",
       "      <td>0.715</td>\n",
       "      <td>0.225</td>\n",
       "      <td>30.303030</td>\n",
       "      <td>2014.247704</td>\n",
       "      <td>57.122647</td>\n",
       "    </tr>\n",
       "    <tr>\n",
       "      <th>20</th>\n",
       "      <td>-1200</td>\n",
       "      <td>0.710</td>\n",
       "      <td>0.220</td>\n",
       "      <td>51.758794</td>\n",
       "      <td>2397.889961</td>\n",
       "      <td>40.635768</td>\n",
       "    </tr>\n",
       "    <tr>\n",
       "      <th>21</th>\n",
       "      <td>-1200</td>\n",
       "      <td>0.715</td>\n",
       "      <td>0.220</td>\n",
       "      <td>46.000000</td>\n",
       "      <td>2399.076040</td>\n",
       "      <td>44.095319</td>\n",
       "    </tr>\n",
       "    <tr>\n",
       "      <th>22</th>\n",
       "      <td>-1200</td>\n",
       "      <td>0.710</td>\n",
       "      <td>0.225</td>\n",
       "      <td>51.758794</td>\n",
       "      <td>2407.299155</td>\n",
       "      <td>66.358992</td>\n",
       "    </tr>\n",
       "    <tr>\n",
       "      <th>23</th>\n",
       "      <td>-1200</td>\n",
       "      <td>0.715</td>\n",
       "      <td>0.225</td>\n",
       "      <td>37.000000</td>\n",
       "      <td>2421.344464</td>\n",
       "      <td>76.500350</td>\n",
       "    </tr>\n",
       "  </tbody>\n",
       "</table>\n",
       "</div>"
      ],
      "text/plain": [
       "    voltage      q      a  transmission           ke        uke\n",
       "0       -10  0.710  0.220     52.500000    32.401575   4.615328\n",
       "1       -10  0.715  0.220     48.484848    32.862079   6.757687\n",
       "2       -10  0.710  0.225     51.000000    33.901231   8.292950\n",
       "3       -10  0.715  0.225     32.500000    36.740700  10.593575\n",
       "4      -100  0.710  0.220     48.500000   219.915322  18.413696\n",
       "5      -100  0.715  0.220     42.346939   222.417018  20.456584\n",
       "6      -100  0.710  0.225     50.251256   225.203184  20.713371\n",
       "7      -100  0.715  0.225     34.673367   224.402121  24.492458\n",
       "8      -200  0.710  0.220     55.500000   422.941297  32.785849\n",
       "9      -200  0.715  0.220     53.000000   420.058464  23.536680\n",
       "10     -200  0.710  0.225     43.500000   427.856605  37.264266\n",
       "11     -200  0.715  0.225     33.000000   430.994136  61.047346\n",
       "12     -500  0.710  0.220     40.909091  1019.788320  43.981927\n",
       "13     -500  0.715  0.220     56.783920  1019.256048  48.598532\n",
       "14     -500  0.710  0.225     48.500000  1022.479146  35.313531\n",
       "15     -500  0.715  0.225     38.190955  1021.853104  39.493894\n",
       "16    -1000  0.710  0.220     47.500000  2000.938974  38.218878\n",
       "17    -1000  0.715  0.220     47.500000  2010.041909  54.444260\n",
       "18    -1000  0.710  0.225     52.000000  2011.504151  52.807266\n",
       "19    -1000  0.715  0.225     30.303030  2014.247704  57.122647\n",
       "20    -1200  0.710  0.220     51.758794  2397.889961  40.635768\n",
       "21    -1200  0.715  0.220     46.000000  2399.076040  44.095319\n",
       "22    -1200  0.710  0.225     51.758794  2407.299155  66.358992\n",
       "23    -1200  0.715  0.225     37.000000  2421.344464  76.500350"
      ]
     },
     "execution_count": 51,
     "metadata": {},
     "output_type": "execute_result"
    }
   ],
   "source": [
    "df = load_data(filename)\n",
    "df"
   ]
  },
  {
   "cell_type": "code",
   "execution_count": 52,
   "metadata": {
    "cell_style": "center"
   },
   "outputs": [],
   "source": [
    "voltages = df.voltage[~df.voltage.duplicated()].values"
   ]
  },
  {
   "cell_type": "code",
   "execution_count": 53,
   "metadata": {
    "cell_style": "center"
   },
   "outputs": [],
   "source": [
    "av_trans, av_ke, u_ke = [], [], []\n",
    "for m in voltages:\n",
    "    dfm = df.where(df.voltage == m).dropna()\n",
    "    av_trans.append(np.average(dfm.transmission))\n",
    "    av_ke.append(np.average(dfm.ke))\n",
    "    u_ke.append(np.average(dfm.uke))"
   ]
  },
  {
   "cell_type": "code",
   "execution_count": 61,
   "metadata": {},
   "outputs": [
    {
     "data": {
      "image/png": "[encoded data removed]",
      "text/plain": [
       "<Figure size 432x288 with 2 Axes>"
      ]
     },
     "metadata": {
      "needs_background": "light"
     },
     "output_type": "display_data"
    }
   ],
   "source": [
    "fig, ax1 = plt.subplots()\n",
    "\n",
    "ax1.plot(voltages, av_trans, 'bo')\n",
    "ax1.set_xlabel('Exit ring voltage [V]', fontsize=15)\n",
    "ax1.set_ylabel('Transmittance [%]', color='b')\n",
    "ax1.tick_params(axis='y', labelcolor='b')\n",
    "ax1.set_ylim(20,80)\n",
    "\n",
    "ax2 = ax1.twinx()\n",
    "ax2.errorbar(voltages, av_ke, u_ke, fmt='ro')\n",
    "ax2.set_ylabel('Ion KE [eV]', color='r')\n",
    "ax2.tick_params(axis='y', labelcolor='r')\n"
   ]
  },
  {
   "cell_type": "markdown",
   "metadata": {},
   "source": [
    "##### Final Ion KE to be compared with initial: 10.1 +- 1 eV"
   ]
  },
  {
   "cell_type": "markdown",
   "metadata": {},
   "source": [
    "# Run 2: entry ring V = [0, -0.1, 0.5, -1, -2, -3, -5]"
   ]
  },
  {
   "cell_type": "code",
   "execution_count": 133,
   "metadata": {},
   "outputs": [
    {
     "data": {
      "text/html": [
       "<div>\n",
       "<style scoped>\n",
       "    .dataframe tbody tr th:only-of-type {\n",
       "        vertical-align: middle;\n",
       "    }\n",
       "\n",
       "    .dataframe tbody tr th {\n",
       "        vertical-align: top;\n",
       "    }\n",
       "\n",
       "    .dataframe thead th {\n",
       "        text-align: right;\n",
       "    }\n",
       "</style>\n",
       "<table border=\"1\" class=\"dataframe\">\n",
       "  <thead>\n",
       "    <tr style=\"text-align: right;\">\n",
       "      <th></th>\n",
       "      <th>voltage</th>\n",
       "      <th>q</th>\n",
       "      <th>a</th>\n",
       "      <th>transmission</th>\n",
       "      <th>ke</th>\n",
       "      <th>uke</th>\n",
       "    </tr>\n",
       "  </thead>\n",
       "  <tbody>\n",
       "    <tr>\n",
       "      <th>0</th>\n",
       "      <td>0.0</td>\n",
       "      <td>0.71</td>\n",
       "      <td>0.2</td>\n",
       "      <td>44.800000</td>\n",
       "      <td>10.609507</td>\n",
       "      <td>1.559431</td>\n",
       "    </tr>\n",
       "    <tr>\n",
       "      <th>1</th>\n",
       "      <td>-0.1</td>\n",
       "      <td>0.71</td>\n",
       "      <td>0.2</td>\n",
       "      <td>44.188377</td>\n",
       "      <td>10.354386</td>\n",
       "      <td>1.420618</td>\n",
       "    </tr>\n",
       "    <tr>\n",
       "      <th>2</th>\n",
       "      <td>0.5</td>\n",
       "      <td>0.71</td>\n",
       "      <td>0.2</td>\n",
       "      <td>45.295295</td>\n",
       "      <td>11.586832</td>\n",
       "      <td>1.565762</td>\n",
       "    </tr>\n",
       "    <tr>\n",
       "      <th>3</th>\n",
       "      <td>-1.0</td>\n",
       "      <td>0.71</td>\n",
       "      <td>0.2</td>\n",
       "      <td>41.850000</td>\n",
       "      <td>8.522186</td>\n",
       "      <td>1.640372</td>\n",
       "    </tr>\n",
       "    <tr>\n",
       "      <th>4</th>\n",
       "      <td>-2.0</td>\n",
       "      <td>0.71</td>\n",
       "      <td>0.2</td>\n",
       "      <td>39.769885</td>\n",
       "      <td>6.665928</td>\n",
       "      <td>2.413459</td>\n",
       "    </tr>\n",
       "    <tr>\n",
       "      <th>5</th>\n",
       "      <td>-5.0</td>\n",
       "      <td>0.71</td>\n",
       "      <td>0.2</td>\n",
       "      <td>0.350000</td>\n",
       "      <td>3.439100</td>\n",
       "      <td>2.709018</td>\n",
       "    </tr>\n",
       "    <tr>\n",
       "      <th>6</th>\n",
       "      <td>-10.0</td>\n",
       "      <td>0.71</td>\n",
       "      <td>0.2</td>\n",
       "      <td>0.000000</td>\n",
       "      <td>NaN</td>\n",
       "      <td>-0.000000</td>\n",
       "    </tr>\n",
       "  </tbody>\n",
       "</table>\n",
       "</div>"
      ],
      "text/plain": [
       "   voltage     q    a  transmission         ke       uke\n",
       "0      0.0  0.71  0.2     44.800000  10.609507  1.559431\n",
       "1     -0.1  0.71  0.2     44.188377  10.354386  1.420618\n",
       "2      0.5  0.71  0.2     45.295295  11.586832  1.565762\n",
       "3     -1.0  0.71  0.2     41.850000   8.522186  1.640372\n",
       "4     -2.0  0.71  0.2     39.769885   6.665928  2.413459\n",
       "5     -5.0  0.71  0.2      0.350000   3.439100  2.709018\n",
       "6    -10.0  0.71  0.2      0.000000        NaN -0.000000"
      ]
     },
     "execution_count": 133,
     "metadata": {},
     "output_type": "execute_result"
    }
   ],
   "source": [
    "filename = \"C://Users//Pablo//Desktop//SIMION//quad_nobox_0_25grid//output/ring_voltages_in.out\"\n",
    "df = load_data(filename)\n",
    "df"
   ]
  },
  {
   "cell_type": "code",
   "execution_count": 134,
   "metadata": {
    "cell_style": "center"
   },
   "outputs": [
    {
     "data": {
      "text/plain": [
       "array([  0. ,  -0.1,   0.5,  -1. ,  -2. ,  -5. , -10. ])"
      ]
     },
     "execution_count": 134,
     "metadata": {},
     "output_type": "execute_result"
    }
   ],
   "source": [
    "voltages = df.voltage[~df.voltage.duplicated()].values\n",
    "voltages"
   ]
  },
  {
   "cell_type": "code",
   "execution_count": 135,
   "metadata": {
    "cell_style": "center"
   },
   "outputs": [
    {
     "name": "stderr",
     "output_type": "stream",
     "text": [
      "C:\\Users\\Pablo\\Anaconda3\\lib\\site-packages\\numpy\\lib\\function_base.py:392: RuntimeWarning: Mean of empty slice.\n",
      "  avg = a.mean(axis)\n",
      "C:\\Users\\Pablo\\Anaconda3\\lib\\site-packages\\numpy\\core\\_methods.py:85: RuntimeWarning: invalid value encountered in double_scalars\n",
      "  ret = ret.dtype.type(ret / rcount)\n"
     ]
    }
   ],
   "source": [
    "av_trans, av_ke, u_ke = [], [], []\n",
    "for m in voltages:\n",
    "    dfm = df.where(df.voltage == m).dropna()\n",
    "    av_trans.append(np.average(dfm.transmission))\n",
    "    av_ke.append(np.average(dfm.ke))\n",
    "    u_ke.append(np.average(dfm.uke))"
   ]
  },
  {
   "cell_type": "code",
   "execution_count": 144,
   "metadata": {},
   "outputs": [
    {
     "data": {
      "image/png": "[encoded data removed]",
      "text/plain": [
       "<Figure size 432x288 with 2 Axes>"
      ]
     },
     "metadata": {
      "needs_background": "light"
     },
     "output_type": "display_data"
    }
   ],
   "source": [
    "fig, ax1 = plt.subplots()\n",
    "\n",
    "ax1.plot(voltages, av_trans, 'bo')\n",
    "ax1.set_xlabel('Entry ring voltage [V]', fontsize=15)\n",
    "ax1.set_ylabel('Transmittance [%]', color='b')\n",
    "ax1.tick_params(axis='y', labelcolor='b')\n",
    "ax1.set_ylim(32,50)\n",
    "\n",
    "ax2 = ax1.twinx()\n",
    "ax2.errorbar(voltages, av_ke, u_ke, fmt='ro')\n",
    "ax2.set_ylabel('Ion KE [eV]', color='r')\n",
    "ax2.tick_params(axis='y', labelcolor='r')\n"
   ]
  },
  {
   "cell_type": "code",
   "execution_count": null,
   "metadata": {},
   "outputs": [],
   "source": []
  },
  {
   "cell_type": "markdown",
   "metadata": {},
   "source": [
    "# Run 3: entry ring V = [0, +0.1, +0.5, +1, +2, +3, +5]"
   ]
  },
  {
   "cell_type": "code",
   "execution_count": 137,
   "metadata": {},
   "outputs": [
    {
     "data": {
      "text/html": [
       "<div>\n",
       "<style scoped>\n",
       "    .dataframe tbody tr th:only-of-type {\n",
       "        vertical-align: middle;\n",
       "    }\n",
       "\n",
       "    .dataframe tbody tr th {\n",
       "        vertical-align: top;\n",
       "    }\n",
       "\n",
       "    .dataframe thead th {\n",
       "        text-align: right;\n",
       "    }\n",
       "</style>\n",
       "<table border=\"1\" class=\"dataframe\">\n",
       "  <thead>\n",
       "    <tr style=\"text-align: right;\">\n",
       "      <th></th>\n",
       "      <th>voltage</th>\n",
       "      <th>q</th>\n",
       "      <th>a</th>\n",
       "      <th>transmission</th>\n",
       "      <th>ke</th>\n",
       "      <th>uke</th>\n",
       "    </tr>\n",
       "  </thead>\n",
       "  <tbody>\n",
       "    <tr>\n",
       "      <th>0</th>\n",
       "      <td>0.0</td>\n",
       "      <td>0.71</td>\n",
       "      <td>0.2</td>\n",
       "      <td>44.594595</td>\n",
       "      <td>10.559853</td>\n",
       "      <td>1.584654</td>\n",
       "    </tr>\n",
       "    <tr>\n",
       "      <th>1</th>\n",
       "      <td>0.1</td>\n",
       "      <td>0.71</td>\n",
       "      <td>0.2</td>\n",
       "      <td>44.550000</td>\n",
       "      <td>10.809697</td>\n",
       "      <td>1.679990</td>\n",
       "    </tr>\n",
       "    <tr>\n",
       "      <th>2</th>\n",
       "      <td>0.5</td>\n",
       "      <td>0.71</td>\n",
       "      <td>0.2</td>\n",
       "      <td>44.794795</td>\n",
       "      <td>11.479731</td>\n",
       "      <td>1.368357</td>\n",
       "    </tr>\n",
       "    <tr>\n",
       "      <th>3</th>\n",
       "      <td>1.0</td>\n",
       "      <td>0.71</td>\n",
       "      <td>0.2</td>\n",
       "      <td>46.873437</td>\n",
       "      <td>12.635159</td>\n",
       "      <td>1.355290</td>\n",
       "    </tr>\n",
       "    <tr>\n",
       "      <th>4</th>\n",
       "      <td>2.0</td>\n",
       "      <td>0.71</td>\n",
       "      <td>0.2</td>\n",
       "      <td>49.900000</td>\n",
       "      <td>14.466076</td>\n",
       "      <td>1.336490</td>\n",
       "    </tr>\n",
       "    <tr>\n",
       "      <th>5</th>\n",
       "      <td>3.0</td>\n",
       "      <td>0.71</td>\n",
       "      <td>0.2</td>\n",
       "      <td>49.899900</td>\n",
       "      <td>16.503006</td>\n",
       "      <td>1.321746</td>\n",
       "    </tr>\n",
       "    <tr>\n",
       "      <th>6</th>\n",
       "      <td>5.0</td>\n",
       "      <td>0.71</td>\n",
       "      <td>0.2</td>\n",
       "      <td>48.900000</td>\n",
       "      <td>20.369739</td>\n",
       "      <td>1.266044</td>\n",
       "    </tr>\n",
       "  </tbody>\n",
       "</table>\n",
       "</div>"
      ],
      "text/plain": [
       "   voltage     q    a  transmission         ke       uke\n",
       "0      0.0  0.71  0.2     44.594595  10.559853  1.584654\n",
       "1      0.1  0.71  0.2     44.550000  10.809697  1.679990\n",
       "2      0.5  0.71  0.2     44.794795  11.479731  1.368357\n",
       "3      1.0  0.71  0.2     46.873437  12.635159  1.355290\n",
       "4      2.0  0.71  0.2     49.900000  14.466076  1.336490\n",
       "5      3.0  0.71  0.2     49.899900  16.503006  1.321746\n",
       "6      5.0  0.71  0.2     48.900000  20.369739  1.266044"
      ]
     },
     "execution_count": 137,
     "metadata": {},
     "output_type": "execute_result"
    }
   ],
   "source": [
    "filename2 = \"C://Users//Pablo//Desktop//SIMION//quad_nobox_0_25grid//output/ring_voltages_in2.out\"\n",
    "df2 = load_data(filename2)\n",
    "df2"
   ]
  },
  {
   "cell_type": "code",
   "execution_count": 138,
   "metadata": {
    "cell_style": "center"
   },
   "outputs": [
    {
     "data": {
      "text/plain": [
       "array([0. , 0.1, 0.5, 1. , 2. , 3. , 5. ])"
      ]
     },
     "execution_count": 138,
     "metadata": {},
     "output_type": "execute_result"
    }
   ],
   "source": [
    "voltages2 = df2.voltage[~df2.voltage.duplicated()].values\n",
    "voltages2"
   ]
  },
  {
   "cell_type": "code",
   "execution_count": 139,
   "metadata": {
    "cell_style": "center"
   },
   "outputs": [],
   "source": [
    "av_trans2, av_ke2, u_ke2 = [], [], []\n",
    "for m in voltages2:\n",
    "    df2m = df2.where(df2.voltage == m).dropna()\n",
    "    av_trans2.append(np.average(df2m.transmission))\n",
    "    av_ke2.append(np.average(df2m.ke))\n",
    "    u_ke2.append(np.average(df2m.uke))"
   ]
  },
  {
   "cell_type": "code",
   "execution_count": 145,
   "metadata": {},
   "outputs": [
    {
     "data": {
      "image/png": "[encoded data removed]",
      "text/plain": [
       "<Figure size 432x288 with 2 Axes>"
      ]
     },
     "metadata": {
      "needs_background": "light"
     },
     "output_type": "display_data"
    }
   ],
   "source": [
    "fig, ax1 = plt.subplots()\n",
    "\n",
    "ax1.plot(voltages2, av_trans2, 'bo')\n",
    "ax1.set_xlabel('Entry ring voltage [V]', fontsize=15)\n",
    "ax1.set_ylabel('Transmittance [%]', color='b')\n",
    "ax1.tick_params(axis='y', labelcolor='b')\n",
    "ax1.set_ylim(40,55)\n",
    "\n",
    "ax2 = ax1.twinx()\n",
    "ax2.errorbar(voltages2, av_ke2, u_ke2, fmt='ro')\n",
    "ax2.set_ylabel('Ion KE [eV]', color='r')\n",
    "ax2.tick_params(axis='y', labelcolor='r')\n"
   ]
  },
  {
   "cell_type": "markdown",
   "metadata": {},
   "source": [
    "# Join both previous "
   ]
  },
  {
   "cell_type": "code",
   "execution_count": 141,
   "metadata": {},
   "outputs": [],
   "source": [
    "volt = np.append(voltages, voltages2)\n",
    "av_t = np.append(av_trans, av_trans2)\n",
    "av_k = np.append(av_ke, av_ke2)\n",
    "u_k = np.append(u_ke, u_ke2)"
   ]
  },
  {
   "cell_type": "code",
   "execution_count": 142,
   "metadata": {},
   "outputs": [
    {
     "data": {
      "text/plain": [
       "array([44.8       , 44.18837675, 45.2952953 , 41.85      , 39.76988494,\n",
       "        0.35      ,         nan, 44.59459459, 44.55      , 44.79479479,\n",
       "       46.87343672, 49.9       , 49.8998999 , 48.9       ])"
      ]
     },
     "execution_count": 142,
     "metadata": {},
     "output_type": "execute_result"
    }
   ],
   "source": [
    "av_t"
   ]
  },
  {
   "cell_type": "code",
   "execution_count": 146,
   "metadata": {},
   "outputs": [
    {
     "data": {
      "image/png": "[encoded data removed]",
      "text/plain": [
       "<Figure size 432x288 with 2 Axes>"
      ]
     },
     "metadata": {
      "needs_background": "light"
     },
     "output_type": "display_data"
    }
   ],
   "source": [
    "fig, ax1 = plt.subplots()\n",
    "\n",
    "ax1.plot(volt, av_t, 'bo')\n",
    "ax1.set_xlabel('Entry ring voltage [V]', fontsize=15)\n",
    "ax1.set_ylabel('Transmittance [%]', color='b')\n",
    "ax1.tick_params(axis='y', labelcolor='b')\n",
    "ax1.set_ylim(40,55)\n",
    "\n",
    "ax2 = ax1.twinx()\n",
    "ax2.errorbar(volt, av_k, u_k, fmt='ro')\n",
    "ax2.set_ylabel('Ion KE [eV]', color='r')\n",
    "ax2.tick_params(axis='y', labelcolor='r')"
   ]
  },
  {
   "cell_type": "markdown",
   "metadata": {},
   "source": [
    "##### Clear maximum of transmittance at 2 V"
   ]
  }
 ],
 "metadata": {
  "kernelspec": {
   "display_name": "Python 3",
   "language": "python",
   "name": "python3"
  },
  "language_info": {
   "codemirror_mode": {
    "name": "ipython",
    "version": 3
   },
   "file_extension": ".py",
   "mimetype": "text/x-python",
   "name": "python",
   "nbconvert_exporter": "python",
   "pygments_lexer": "ipython3",
   "version": "3.7.3"
  },
  "toc": {
   "base_numbering": 1,
   "nav_menu": {},
   "number_sections": true,
   "sideBar": true,
   "skip_h1_title": false,
   "title_cell": "Table of Contents",
   "title_sidebar": "Contents",
   "toc_cell": false,
   "toc_position": {},
   "toc_section_display": true,
   "toc_window_display": false
  }
 },
 "nbformat": 4,
 "nbformat_minor": 2
}
